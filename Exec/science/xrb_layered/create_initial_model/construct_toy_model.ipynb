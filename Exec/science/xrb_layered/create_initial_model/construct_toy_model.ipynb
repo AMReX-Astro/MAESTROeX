{
 "cells": [
  {
   "cell_type": "markdown",
   "id": "f1dc6ec0-cb63-4917-a32b-f44898af91b0",
   "metadata": {},
   "source": [
    "# Toy model\n",
    "\n",
    "Try to reproduce the composition profile with analytical functions"
   ]
  },
  {
   "cell_type": "code",
   "execution_count": 4,
   "id": "521a10cb-37b6-41c3-ad29-579e7636e11f",
   "metadata": {},
   "outputs": [
    {
     "data": {
      "text/plain": [
       "<AxesSubplot:>"
      ]
     },
     "execution_count": 4,
     "metadata": {},
     "output_type": "execute_result"
    },
    {
     "data": {
      "image/png": "[encoded data removed]",
      "text/plain": [
       "<Figure size 432x288 with 1 Axes>"
      ]
     },
     "metadata": {
      "needs_background": "light"
     },
     "output_type": "display_data"
    }
   ],
   "source": [
    "import py_mesa_reader as mr\n",
    "import numpy as np\n",
    "import matplotlib.pyplot as plt\n",
    "\n",
    "def plot_X():\n",
    "    prof = mr.MesaData(\"profile37.data\")\n",
    "    fig,ax = plt.subplots(1,1)\n",
    "    ax.plot(prof.R_cm-12e5, prof.fe56, 'k-', label='h1')\n",
    "    ax.plot(prof.R_cm-12e5, prof.h1, 'b-', label='h1')\n",
    "    ax.plot(prof.R_cm-12e5, prof.he4, 'r-', label='he4')\n",
    "    ax.plot(prof.R_cm-12e5, prof.c12, 'g-', label='c12')\n",
    "    return ax\n",
    "\n",
    "plot_X()"
   ]
  },
  {
   "cell_type": "markdown",
   "id": "fcafb323-4ff4-4fa3-9379-113914a120c0",
   "metadata": {},
   "source": [
    "First fit the h1 with sigmoid"
   ]
  },
  {
   "cell_type": "code",
   "execution_count": null,
   "id": "6d717302-d36a-4d86-a5a9-82e4f5f7c7bf",
   "metadata": {},
   "outputs": [],
   "source": [
    "from scipy.optimize import curve_fit\n",
    "xdata = prof.R_cm-12e5\n",
    "ydata = prof.h1\n",
    "ydata[ydata==1e-99] = 0\n",
    "plt.plot(x,y,'k-',lw=1.5)\n",
    "\n",
    "# asymetrical sigmoid\n",
    "def func(x,a,b,c,d,m):\n",
    "    return d + (a-d)/(1+(x/c)**b)**m\n",
    "\n",
    "popt, pcov = curve_fit(func, xdata, ydata)\n",
    "plt.plot(xdata, func(xdata, *popt), 'g--')\n",
    "print('fit: a=%5.3f, b=%5.3f, c=%5.3f, d=%5.3f, m=%5.3f' % tuple(popt))\n",
    "\n",
    "plt.plot(xdata, func(xdata, a=0, b=171, c=1655, d=0.7, m=0.087), 'm:')"
   ]
  },
  {
   "cell_type": "code",
   "execution_count": null,
   "id": "20d7b19b-f206-4276-b524-6b066849baf4",
   "metadata": {},
   "outputs": [],
   "source": [
    "# toy model params\n",
    "\n",
    "# composition of ash and layers\n",
    "Xash_fe56 = 1\n",
    "Xlayer1_he4 = 1\n",
    "Xlayer2_h1 = 0.7\n",
    "Xlayer2_he4 = 0.28\n",
    "Xlayer2_c12 = 0.02\n",
    "\n",
    "# dimensions\n",
    "nx = 1024\n",
    "xmin = 0\n",
    "xmax = 3072\n",
    "\n",
    "H_star = 1100 # height of substrate\n",
    "delta1 = 10 # distance over which transition from substrate to layer1 takes place\n",
    "delta2 = "
   ]
  },
  {
   "cell_type": "code",
   "execution_count": 7,
   "id": "68df0e00-b2fe-4299-affa-9552c9f4058c",
   "metadata": {},
   "outputs": [
    {
     "data": {
      "text/plain": [
       "[<matplotlib.lines.Line2D at 0x7fbc887f5190>]"
      ]
     },
     "execution_count": 7,
     "metadata": {},
     "output_type": "execute_result"
    },
    {
     "data": {
      "image/png": "[encoded data removed]",
      "text/plain": [
       "<Figure size 432x288 with 1 Axes>"
      ]
     },
     "metadata": {
      "needs_background": "light"
     },
     "output_type": "display_data"
    }
   ],
   "source": [
    "\n"
   ]
  },
  {
   "cell_type": "code",
   "execution_count": null,
   "id": "cfc0f4ec-348e-46cd-b4f0-aa8af17b0064",
   "metadata": {},
   "outputs": [],
   "source": []
  }
 ],
 "metadata": {
  "kernelspec": {
   "display_name": "NERSC Python",
   "language": "python",
   "name": "python3"
  },
  "language_info": {
   "codemirror_mode": {
    "name": "ipython",
    "version": 3
   },
   "file_extension": ".py",
   "mimetype": "text/x-python",
   "name": "python",
   "nbconvert_exporter": "python",
   "pygments_lexer": "ipython3",
   "version": "3.9.7"
  }
 },
 "nbformat": 4,
 "nbformat_minor": 5
}
